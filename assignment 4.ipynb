{
 "cells": [
  {
   "cell_type": "code",
   "execution_count": 9,
   "metadata": {},
   "outputs": [],
   "source": [
    "import sys\n",
    "import time\n",
    "from rapidfuzz import process"
   ]
  },
  {
   "cell_type": "code",
   "execution_count": 10,
   "metadata": {},
   "outputs": [
    {
     "name": "stdout",
     "output_type": "stream",
     "text": [
      "Welcome to the NMT Translation Program!\n",
      "Type 'exit' or press 'Ctrl+C' to quit the program.\n",
      "'hello' is a valid word.\n",
      "Translation --> translated_hello\n",
      "Error       --> 'sahil' is not available.\n",
      "Suggestions --> il, s, i, hi, h\n",
      "Exiting the program...\n"
     ]
    }
   ],
   "source": [
    "def load_vocabulary(filepath):\n",
    "    with open(filepath, 'r') as file:\n",
    "        vocabulary = set(file.read().splitlines())\n",
    "    return vocabulary\n",
    "\n",
    "def suggest_words(word, vocabulary):\n",
    "    suggestions = process.extract(word, vocabulary, limit=5)\n",
    "    return [suggestion[0] for suggestion in suggestions]\n",
    "\n",
    "def check_word(word, vocabulary, wrong_words):\n",
    "    if word in vocabulary:\n",
    "        print(f\"'{word}' is a valid word.\")\n",
    "        wrong_words.clear()\n",
    "    else:\n",
    "        print(f\"Error       --> '{word}' is not available.\")\n",
    "        suggestions = suggest_words(word, vocabulary)\n",
    "        print(f\"Suggestions --> {', '.join(suggestions)}\")\n",
    "        wrong_words.append(word)\n",
    "        \n",
    "        if len(wrong_words) >= 2:\n",
    "            print(f\"Consecutive wrong words entered --> {', '.join(wrong_words)}\")\n",
    "\n",
    "def translate(word):\n",
    "    time.sleep(0.1)\n",
    "    return f\"translated_{word}\"\n",
    "\n",
    "def main_nmt():\n",
    "    vocabulary_path = \"../data4/words.txt\"\n",
    "    vocabulary = load_vocabulary(vocabulary_path)\n",
    "    wrong_words = []\n",
    "\n",
    "    print(\"Welcome to the NMT Translation Program!\")\n",
    "    print(\"Type 'exit' or press 'Ctrl+C' to quit the program.\")\n",
    "\n",
    "    while True:\n",
    "        try:\n",
    "            word = input(\"Enter a word to translate (or type 'exit' to quit): \").strip().lower()\n",
    "            if word == \"exit\":\n",
    "                print(\"Exiting the program...\")\n",
    "                break\n",
    "            if word:\n",
    "                if word in vocabulary:\n",
    "                    print(f\"'{word}' is a valid word.\")\n",
    "                    translation = translate(word)\n",
    "                    print(f\"Translation --> {translation}\")\n",
    "                    wrong_words.clear()\n",
    "                else:\n",
    "                    check_word(word, vocabulary, wrong_words)\n",
    "            else:\n",
    "                print(\"No input received. Please enter a valid word.\")\n",
    "            \n",
    "            sys.stdout.flush()\n",
    "        except KeyboardInterrupt:\n",
    "            print(\"\\nProgram interrupted. Exiting...\")\n",
    "            break\n",
    "\n",
    "if __name__ == \"__main__\":\n",
    "    main_nmt()"
   ]
  }
 ],
 "metadata": {
  "kernelspec": {
   "display_name": "nullclass1",
   "language": "python",
   "name": "python3"
  },
  "language_info": {
   "codemirror_mode": {
    "name": "ipython",
    "version": 3
   },
   "file_extension": ".py",
   "mimetype": "text/x-python",
   "name": "python",
   "nbconvert_exporter": "python",
   "pygments_lexer": "ipython3",
   "version": "3.9.18"
  }
 },
 "nbformat": 4,
 "nbformat_minor": 2
}
